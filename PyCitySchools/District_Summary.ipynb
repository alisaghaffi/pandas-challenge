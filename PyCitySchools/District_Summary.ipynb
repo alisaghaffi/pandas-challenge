{
 "cells": [
  {
   "cell_type": "code",
   "execution_count": 1,
   "id": "9651a18c-a3bd-4360-ab7d-77122d380662",
   "metadata": {},
   "outputs": [
    {
     "name": "stdout",
     "output_type": "stream",
     "text": [
      "Populating the interactive namespace from numpy and matplotlib\n"
     ]
    },
    {
     "data": {
      "text/html": [
       "<div>\n",
       "<style scoped>\n",
       "    .dataframe tbody tr th:only-of-type {\n",
       "        vertical-align: middle;\n",
       "    }\n",
       "\n",
       "    .dataframe tbody tr th {\n",
       "        vertical-align: top;\n",
       "    }\n",
       "\n",
       "    .dataframe thead th {\n",
       "        text-align: right;\n",
       "    }\n",
       "</style>\n",
       "<table border=\"1\" class=\"dataframe\">\n",
       "  <thead>\n",
       "    <tr style=\"text-align: right;\">\n",
       "      <th></th>\n",
       "      <th>Total Schools</th>\n",
       "      <th>Total Students</th>\n",
       "      <th>Total Budget</th>\n",
       "      <th>Average Math Score</th>\n",
       "      <th>Average Reading Score</th>\n",
       "      <th>% Passing Math</th>\n",
       "      <th>% Passing Reading</th>\n",
       "      <th>% Overall Passing</th>\n",
       "    </tr>\n",
       "  </thead>\n",
       "  <tbody>\n",
       "    <tr>\n",
       "      <th>0</th>\n",
       "      <td>15</td>\n",
       "      <td>39170</td>\n",
       "      <td>24649428</td>\n",
       "      <td>78.985371</td>\n",
       "      <td>81.87784</td>\n",
       "      <td>74.980853</td>\n",
       "      <td>85.805463</td>\n",
       "      <td>85.805463</td>\n",
       "    </tr>\n",
       "  </tbody>\n",
       "</table>\n",
       "</div>"
      ],
      "text/plain": [
       "   Total Schools  Total Students  Total Budget  Average Math Score  \\\n",
       "0             15           39170      24649428           78.985371   \n",
       "\n",
       "   Average Reading Score  % Passing Math  % Passing Reading  % Overall Passing  \n",
       "0               81.87784       74.980853          85.805463          85.805463  "
      ]
     },
     "execution_count": 1,
     "metadata": {},
     "output_type": "execute_result"
    }
   ],
   "source": [
    "# Dependencies and Setup District_Summary\n",
    "%matplotlib notebook\n",
    "%pylab inline\n",
    "import pandas as pd\n",
    "import matplotlib.pyplot as plt\n",
    "import numpy as np\n",
    "\n",
    "\n",
    "\n",
    "\n",
    "\n",
    "# File to Load (Remember to Change These)\n",
    "school_data_to_load = \"C:/Users/alisa/GIT/pandas-challenge/PyCitySchools/schools_complete.csv\"\n",
    "student_data_to_load = \"C:/Users/alisa/GIT/pandas-challenge/PyCitySchools/students_complete.csv\"\n",
    "\n",
    "# Read School and Student Data File and store into Pandas DataFrames\n",
    "school_data = pd.read_csv(school_data_to_load)\n",
    "student_data = pd.read_csv(student_data_to_load)\n",
    "\n",
    "# Combine the data into a single dataset.  \n",
    "school_data_complete = pd.merge(student_data, school_data, how=\"left\", on=[\"school_name\", \"school_name\"])\n",
    "\n",
    "#Calculate the total number of schools 15\n",
    "total_number_of_schools = school_data['school_name'].count()\n",
    "\n",
    "#Calculate the total number of students 39170 comma?\n",
    "total_number_of_students = student_data['student_name'].count()\n",
    "\n",
    "#Calculate the total budget  24649428 $ and comma .map(\"${:,.2f}\".format)\n",
    "#  format(\"${:,.2f}\")\n",
    "total_budget = school_data['budget'].sum()\n",
    "#print (total_budget)\n",
    "\n",
    "#Calculate the average math score 79.0 format \n",
    "average_math_score = student_data['math_score'].mean()\n",
    "#print (average_math_score) \n",
    "\n",
    "#Calculate the average reading score 82  format\n",
    "average_reading_score = student_data['reading_score'].mean()\n",
    "#print (average_reading_score) \n",
    "\n",
    "#Calculate the percentage of students with a passing math score (70 or greater) 74.980853\n",
    "students_with_passing_math_score = student_data.loc[student_data['math_score'] >= 70 ].count()\n",
    "percent_math_passing =  round(students_with_passing_math_score / total_number_of_students,8)*100\n",
    "#print (percent_math_score[1])\n",
    "\n",
    "#Calculate the percentage of students with a passing reading score (70 or greater) 85.805463 \n",
    "students_with_passing_reading_score = student_data.loc[student_data['reading_score'] >= 70 ].count()\n",
    "percent_reading_passing =  round(students_with_passing_reading_score / total_number_of_students,8)*100\n",
    "#print (percent_reading_passing[1])\n",
    "\n",
    "#Calculate the percentage of students who passed math and reading (% Overall Passing) 85.805463\n",
    "Overall_Passing = student_data.loc[student_data['math_score'and'reading_score'] >=70].count()\n",
    "#print(z3) 33610\n",
    "percent_Overall_Passing =  round(Overall_Passing / total_number_of_students,8)*100  \n",
    "#print (p3) \n",
    "\n",
    "\n",
    "\n",
    "District_Summary = pd.DataFrame({'Total Schools': [total_number_of_schools],\n",
    "                  'Total Students': [total_number_of_students],\n",
    "                  'Total Budget':[total_budget],\n",
    "                  'Average Math Score': [average_math_score],\n",
    "                  'Average Reading Score': [average_reading_score],\n",
    "                  '% Passing Math':[percent_math_passing[1]],\n",
    "                  '% Passing Reading':[percent_reading_passing[1]],\n",
    "                  '% Overall Passing':[percent_Overall_Passing[1]]})\n",
    "\n",
    "\n",
    "District_Summary.head()"
   ]
  },
  {
   "cell_type": "code",
   "execution_count": 2,
   "id": "5edbe9e6-8c1c-42d7-b09a-b1f719dea1f5",
   "metadata": {},
   "outputs": [],
   "source": [
    "District_Summary.to_html('C:/Users/alisa/GIT/pandas-challenge/PyCitySchools/District_Summary.html')\n",
    "District_Summary.to_csv('C:/Users/alisa/GIT/pandas-challenge/PyCitySchools/District_Summary.csv')"
   ]
  },
  {
   "cell_type": "code",
   "execution_count": 3,
   "id": "86f5efe2-067c-4bb5-8ae1-95d87d7c9635",
   "metadata": {},
   "outputs": [],
   "source": [
    "#Optional: give the displayed data cleaner formatting\n",
    "#District_Summary.drop(District_Summary.index, inplace=True)"
   ]
  },
  {
   "cell_type": "code",
   "execution_count": null,
   "id": "5f8a64d6-4326-4a6c-b2e3-4334867a763a",
   "metadata": {},
   "outputs": [],
   "source": []
  },
  {
   "cell_type": "code",
   "execution_count": null,
   "id": "eb777e14-3acd-4adf-8c72-b8c432eacab5",
   "metadata": {},
   "outputs": [],
   "source": []
  }
 ],
 "metadata": {
  "kernelspec": {
   "display_name": "Python 3 (ipykernel)",
   "language": "python",
   "name": "python3"
  },
  "language_info": {
   "codemirror_mode": {
    "name": "ipython",
    "version": 3
   },
   "file_extension": ".py",
   "mimetype": "text/x-python",
   "name": "python",
   "nbconvert_exporter": "python",
   "pygments_lexer": "ipython3",
   "version": "3.9.7"
  }
 },
 "nbformat": 4,
 "nbformat_minor": 5
}
